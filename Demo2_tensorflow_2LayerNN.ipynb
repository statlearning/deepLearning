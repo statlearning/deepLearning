{
 "cells": [
  {
   "cell_type": "code",
   "execution_count": 1,
   "metadata": {},
   "outputs": [],
   "source": [
    "# Example 2: Two layer neural network\n",
    "# 2.1 Loading the reuired libraries\n",
    "import tensorflow as tf\n",
    "import numpy as np\n",
    "\n",
    "%matplotlib inline\n",
    "import matplotlib.pyplot as plt"
   ]
  },
  {
   "cell_type": "code",
   "execution_count": 3,
   "metadata": {},
   "outputs": [],
   "source": [
    "# 2.2 Defining the Batch size, input dimension, hidden dimension and number of classes\n",
    "N,D,H,C=64,1000,100,10"
   ]
  },
  {
   "cell_type": "code",
   "execution_count": 4,
   "metadata": {},
   "outputs": [
    {
     "name": "stdout",
     "output_type": "stream",
     "text": [
      "Tensor(\"Placeholder:0\", shape=(?, 1000), dtype=float32)\n"
     ]
    }
   ],
   "source": [
    "# 2.3 Defining the placeholder for tensors (Can't be evaluated; must be fed through feed_dict during training)\n",
    "x=tf.placeholder(tf.float32,shape=[None,D])\n",
    "y=tf.placeholder(tf.float32,shape=[None,C])\n",
    "print(x)"
   ]
  },
  {
   "cell_type": "code",
   "execution_count": 5,
   "metadata": {},
   "outputs": [],
   "source": [
    "# 2.4 Defining the Variables; Weight matrices w1 and w2\n",
    "w1=tf.Variable(1e-3*np.random.randn(D,H).astype(np.float32),name=\"w1\")\n",
    "w2=tf.Variable(1e-3*np.random.randn(H,C).astype(np.float32),name=\"w2\")"
   ]
  },
  {
   "cell_type": "code",
   "execution_count": 6,
   "metadata": {},
   "outputs": [],
   "source": [
    "# 2.5 Building inference graph: Feedforward algorithm\n",
    "with tf.name_scope('scores') as scope:\n",
    "    a=tf.matmul(x,w1)\n",
    "    a_relu=tf.nn.relu(a)\n",
    "    scores=tf.matmul(a_relu,w2)\n",
    "    \n",
    "with tf.name_scope('loss') as scope:\n",
    "    probs=tf.nn.softmax(scores)\n",
    "    loss=-tf.reduce_sum(y*tf.log(probs))\n",
    "\n",
    "# Creating summaries for loss and weights for tensorboard\n",
    "loss_summary=tf.summary.scalar('loss',loss)\n",
    "w1_hist=tf.summary.histogram('w1',w1)\n",
    "w2_hist=tf.summary.histogram('w2',w2)"
   ]
  },
  {
   "cell_type": "code",
   "execution_count": 7,
   "metadata": {},
   "outputs": [],
   "source": [
    "# 2.6 Building training graph\n",
    "learning_rate=1e-2\n",
    "optimizer=tf.train.GradientDescentOptimizer(learning_rate)\n",
    "train=optimizer.minimize(loss)"
   ]
  },
  {
   "cell_type": "code",
   "execution_count": 8,
   "metadata": {},
   "outputs": [
    {
     "data": {
      "text/plain": [
       "array([[0., 0., 0., 0., 1., 0., 0., 0., 0., 0.],\n",
       "       [0., 0., 0., 0., 0., 0., 0., 0., 0., 1.],\n",
       "       [0., 0., 0., 0., 0., 0., 0., 0., 0., 1.],\n",
       "       [0., 0., 0., 0., 0., 0., 1., 0., 0., 0.],\n",
       "       [0., 0., 0., 0., 1., 0., 0., 0., 0., 0.],\n",
       "       [0., 0., 0., 0., 1., 0., 0., 0., 0., 0.],\n",
       "       [0., 0., 0., 0., 1., 0., 0., 0., 0., 0.],\n",
       "       [0., 0., 1., 0., 0., 0., 0., 0., 0., 0.],\n",
       "       [0., 0., 1., 0., 0., 0., 0., 0., 0., 0.],\n",
       "       [0., 0., 0., 0., 0., 1., 0., 0., 0., 0.],\n",
       "       [0., 0., 0., 0., 0., 0., 0., 1., 0., 0.],\n",
       "       [0., 0., 0., 0., 0., 1., 0., 0., 0., 0.],\n",
       "       [0., 0., 0., 0., 0., 0., 0., 0., 0., 1.],\n",
       "       [1., 0., 0., 0., 0., 0., 0., 0., 0., 0.],\n",
       "       [0., 0., 0., 0., 0., 0., 0., 1., 0., 0.],\n",
       "       [0., 0., 0., 0., 0., 0., 0., 0., 0., 1.],\n",
       "       [0., 0., 0., 0., 1., 0., 0., 0., 0., 0.],\n",
       "       [0., 0., 1., 0., 0., 0., 0., 0., 0., 0.],\n",
       "       [0., 0., 1., 0., 0., 0., 0., 0., 0., 0.],\n",
       "       [0., 1., 0., 0., 0., 0., 0., 0., 0., 0.],\n",
       "       [0., 0., 0., 0., 0., 0., 0., 0., 0., 1.],\n",
       "       [1., 0., 0., 0., 0., 0., 0., 0., 0., 0.],\n",
       "       [0., 0., 0., 0., 0., 0., 0., 0., 0., 1.],\n",
       "       [0., 0., 0., 0., 0., 0., 0., 1., 0., 0.],\n",
       "       [1., 0., 0., 0., 0., 0., 0., 0., 0., 0.],\n",
       "       [0., 0., 0., 0., 0., 0., 0., 1., 0., 0.],\n",
       "       [0., 1., 0., 0., 0., 0., 0., 0., 0., 0.],\n",
       "       [1., 0., 0., 0., 0., 0., 0., 0., 0., 0.],\n",
       "       [0., 0., 0., 0., 1., 0., 0., 0., 0., 0.],\n",
       "       [0., 0., 0., 0., 0., 1., 0., 0., 0., 0.],\n",
       "       [0., 0., 0., 0., 1., 0., 0., 0., 0., 0.],\n",
       "       [0., 0., 0., 0., 0., 0., 0., 0., 1., 0.],\n",
       "       [0., 0., 0., 0., 1., 0., 0., 0., 0., 0.],\n",
       "       [0., 0., 1., 0., 0., 0., 0., 0., 0., 0.],\n",
       "       [0., 0., 0., 0., 0., 1., 0., 0., 0., 0.],\n",
       "       [0., 0., 0., 0., 0., 1., 0., 0., 0., 0.],\n",
       "       [0., 0., 0., 0., 0., 0., 0., 0., 0., 1.],\n",
       "       [0., 0., 0., 1., 0., 0., 0., 0., 0., 0.],\n",
       "       [1., 0., 0., 0., 0., 0., 0., 0., 0., 0.],\n",
       "       [1., 0., 0., 0., 0., 0., 0., 0., 0., 0.],\n",
       "       [0., 0., 0., 0., 0., 1., 0., 0., 0., 0.],\n",
       "       [0., 0., 0., 0., 0., 0., 0., 0., 1., 0.],\n",
       "       [0., 0., 0., 0., 1., 0., 0., 0., 0., 0.],\n",
       "       [0., 0., 0., 0., 0., 0., 0., 0., 1., 0.],\n",
       "       [0., 0., 1., 0., 0., 0., 0., 0., 0., 0.],\n",
       "       [0., 1., 0., 0., 0., 0., 0., 0., 0., 0.],\n",
       "       [0., 0., 0., 0., 0., 0., 1., 0., 0., 0.],\n",
       "       [1., 0., 0., 0., 0., 0., 0., 0., 0., 0.],\n",
       "       [0., 0., 0., 0., 1., 0., 0., 0., 0., 0.],\n",
       "       [0., 0., 0., 0., 0., 1., 0., 0., 0., 0.],\n",
       "       [0., 0., 0., 0., 0., 0., 0., 1., 0., 0.],\n",
       "       [0., 0., 0., 0., 0., 1., 0., 0., 0., 0.],\n",
       "       [0., 0., 1., 0., 0., 0., 0., 0., 0., 0.],\n",
       "       [0., 1., 0., 0., 0., 0., 0., 0., 0., 0.],\n",
       "       [0., 0., 0., 0., 0., 0., 0., 0., 1., 0.],\n",
       "       [0., 0., 0., 0., 1., 0., 0., 0., 0., 0.],\n",
       "       [0., 0., 0., 0., 0., 1., 0., 0., 0., 0.],\n",
       "       [0., 0., 0., 0., 0., 0., 1., 0., 0., 0.],\n",
       "       [0., 0., 0., 0., 0., 0., 0., 0., 0., 1.],\n",
       "       [0., 0., 1., 0., 0., 0., 0., 0., 0., 0.],\n",
       "       [0., 0., 0., 0., 0., 1., 0., 0., 0., 0.],\n",
       "       [0., 0., 0., 0., 1., 0., 0., 0., 0., 0.],\n",
       "       [1., 0., 0., 0., 0., 0., 0., 0., 0., 0.],\n",
       "       [0., 0., 0., 0., 0., 0., 0., 0., 1., 0.]], dtype=float32)"
      ]
     },
     "execution_count": 8,
     "metadata": {},
     "output_type": "execute_result"
    }
   ],
   "source": [
    "# 2.7 Simulating data matrices\n",
    "xx=np.random.randn(N,D).astype(np.float32)\n",
    "yy=np.zeros((N,C)).astype(np.float32)\n",
    "yy[np.arange(N),np.random.randint(C,size=N)]=1\n",
    "yy"
   ]
  },
  {
   "cell_type": "code",
   "execution_count": 9,
   "metadata": {},
   "outputs": [
    {
     "name": "stdout",
     "output_type": "stream",
     "text": [
      "147.36372\n",
      "147.30164\n",
      "147.19257\n",
      "146.90714\n",
      "146.09616\n",
      "143.66139\n",
      "136.22098\n",
      "116.16955\n",
      "87.17467\n",
      "59.885845\n",
      "39.558414\n",
      "26.7257\n",
      "13.969757\n",
      "7.697636\n",
      "4.9880753\n",
      "4.0516925\n",
      "3.6386604\n",
      "3.39081\n",
      "3.2214913\n",
      "3.0977547\n",
      "3.0030158\n",
      "2.9276881\n",
      "2.8665843\n",
      "2.8160112\n",
      "2.7733884\n",
      "2.7370365\n",
      "2.705721\n",
      "2.6784742\n",
      "2.6544425\n",
      "2.633163\n",
      "2.6142025\n",
      "2.5971875\n",
      "2.5818548\n",
      "2.5679622\n",
      "2.5553188\n",
      "2.5437703\n",
      "2.533176\n",
      "2.5234296\n",
      "2.514432\n",
      "2.506102\n",
      "2.4983702\n",
      "2.4911778\n",
      "2.4844656\n",
      "2.4781916\n",
      "2.4723122\n",
      "2.4668\n",
      "2.4616234\n",
      "2.4567363\n",
      "2.4521222\n",
      "2.4477649\n",
      "2.443654\n",
      "2.4397573\n",
      "2.4360468\n",
      "2.4325202\n",
      "2.4291759\n",
      "2.4260716\n",
      "2.4230201\n",
      "2.4201102\n",
      "2.4173336\n",
      "2.4146907\n",
      "2.412145\n",
      "2.4097059\n",
      "2.4073856\n",
      "2.4051588\n",
      "2.4030037\n",
      "2.4009397\n",
      "2.398946\n",
      "2.3970268\n",
      "2.3951805\n",
      "2.3934019\n",
      "2.3916848\n",
      "2.3900292\n",
      "2.3884294\n",
      "2.3868864\n",
      "2.3853943\n",
      "2.3839512\n",
      "2.382554\n",
      "2.3812041\n",
      "2.3798935\n",
      "2.3786266\n",
      "2.377404\n",
      "2.3762252\n",
      "2.3750696\n",
      "2.3739455\n",
      "2.3728538\n",
      "2.3717935\n",
      "2.3707623\n",
      "2.369761\n",
      "2.368788\n",
      "2.3678398\n",
      "2.3669157\n",
      "2.366018\n",
      "2.3651423\n",
      "2.3642917\n",
      "2.363464\n",
      "2.3626664\n",
      "2.361877\n",
      "2.3611064\n",
      "2.3603551\n",
      "2.3596225\n"
     ]
    },
    {
     "data": {
      "image/png": "[encoded data removed]",
      "text/plain": [
       "<matplotlib.figure.Figure at 0x182208efd0>"
      ]
     },
     "metadata": {},
     "output_type": "display_data"
    }
   ],
   "source": [
    "# 2.8 Perform training and creating logs for Tensorboard\n",
    "losses=[]\n",
    "with tf.Session() as sess:\n",
    "    merged=tf.summary.merge_all()\n",
    "    writer=tf.summary.FileWriter('fc_logs',sess.graph)\n",
    "    sess.run(tf.global_variables_initializer())\n",
    "    \n",
    "    for t in xrange(100):\n",
    "        summary_str,_,loss_value=sess.run([merged,train,loss],feed_dict={x:xx,y:yy})\n",
    "        losses.append(loss_value)\n",
    "        writer.add_summary(summary_str,t)\n",
    "        print loss_value\n",
    "    plt.plot(losses)"
   ]
  },
  {
   "cell_type": "code",
   "execution_count": null,
   "metadata": {},
   "outputs": [],
   "source": []
  }
 ],
 "metadata": {
  "anaconda-cloud": {},
  "kernelspec": {
   "display_name": "Python 2",
   "language": "python",
   "name": "python2"
  },
  "language_info": {
   "codemirror_mode": {
    "name": "ipython",
    "version": 2
   },
   "file_extension": ".py",
   "mimetype": "text/x-python",
   "name": "python",
   "nbconvert_exporter": "python",
   "pygments_lexer": "ipython2",
   "version": "2.7.14"
  }
 },
 "nbformat": 4,
 "nbformat_minor": 1
}
